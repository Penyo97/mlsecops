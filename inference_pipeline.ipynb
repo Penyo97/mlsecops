{
 "cells": [
  {
   "cell_type": "code",
   "id": "initial_id",
   "metadata": {
    "collapsed": true,
    "ExecuteTime": {
     "end_time": "2025-05-19T06:50:45.250290Z",
     "start_time": "2025-05-19T06:50:45.234661Z"
    }
   },
   "source": [
    "from constans import CONTINOUS_COLUMNS,DROP_COLUMNS,DISCRETE_COLUMNS,NOMINAL_COLUMNS,TARGET\n",
    "import pandas as pd\n",
    "from MLModel import MLModel"
   ],
   "outputs": [],
   "execution_count": 58
  },
  {
   "metadata": {
    "ExecuteTime": {
     "end_time": "2025-05-19T06:50:45.279708Z",
     "start_time": "2025-05-19T06:50:45.250290Z"
    }
   },
   "cell_type": "code",
   "source": [
    "model_handler = MLModel()\n",
    "\n",
    "fill_values_nominal = model_handler.load_model('artifacts/nan_outlier_handler/fill_values_nominal.pkl')\n",
    "fill_values_discrete = model_handler.load_model('artifacts/nan_outlier_handler/fill_values_discrete.pkl')\n",
    "fill_values_continuous = model_handler.load_model('artifacts/nan_outlier_handler/fill_values_continuous.pkl')\n",
    "min_max_scaler_dict = model_handler.load_model('artifacts/encoders/min_max_scaler_dict.pkl')\n",
    "onehot_encoders = model_handler.load_model('artifacts/encoders/onehot_encoders_dict.pkl')\n",
    "xgb = model_handler.load_model('artifacts/models/xgb_model.pkl')"
   ],
   "id": "14b597133f3544a0",
   "outputs": [],
   "execution_count": 59
  },
  {
   "metadata": {
    "ExecuteTime": {
     "end_time": "2025-05-19T06:50:45.342208Z",
     "start_time": "2025-05-19T06:50:45.295331Z"
    }
   },
   "cell_type": "code",
   "source": [
    "data_path = 'data/train_pipeline/car_price_prediction.csv'\n",
    "df = pd.read_csv(data_path)"
   ],
   "id": "718b91692bf58f28",
   "outputs": [],
   "execution_count": 60
  },
  {
   "metadata": {
    "ExecuteTime": {
     "end_time": "2025-05-19T06:50:45.373603Z",
     "start_time": "2025-05-19T06:50:45.357833Z"
    }
   },
   "cell_type": "code",
   "source": [
    "sample_data = df.iloc[0]\n",
    "sample_data = pd.DataFrame([sample_data])"
   ],
   "id": "90cf9433c7abb8f0",
   "outputs": [],
   "execution_count": 61
  },
  {
   "metadata": {
    "ExecuteTime": {
     "end_time": "2025-05-19T06:50:45.420782Z",
     "start_time": "2025-05-19T06:50:45.404920Z"
    }
   },
   "cell_type": "code",
   "source": [
    "sample_data.drop(columns=DROP_COLUMNS, inplace=True)\n",
    "\n",
    "for col in NOMINAL_COLUMNS:\n",
    "    sample_data[col].fillna(fill_values_nominal[col],\n",
    "                                    inplace=True)\n",
    "for col in DISCRETE_COLUMNS:\n",
    "    sample_data[col].fillna(fill_values_discrete[col],\n",
    "                                    inplace=True)\n",
    "for col in CONTINOUS_COLUMNS:\n",
    "    sample_data[col].fillna(fill_values_continuous[col],\n",
    "                                    inplace=True)\n",
    "\n",
    "\n",
    "for col, encoder in onehot_encoders.items():\n",
    "    new_data = encoder.transform(sample_data[col].to_numpy().reshape(-1, 1))\n",
    "    new_df = pd.DataFrame(new_data, columns=encoder.get_feature_names([col]))\n",
    "    sample_data = pd.concat([sample_data, new_df], axis=1).drop(columns=[col])\n",
    "\n",
    "\n",
    "for col, scaler in min_max_scaler_dict.items():\n",
    "    if col in sample_data.columns:\n",
    "        sample_data[col] = scaler.transform(sample_data[[col]])\n",
    "\n",
    "if TARGET in sample_data.columns:\n",
    "    sample_data = sample_data.drop(columns=TARGET)\n",
    "\n",
    "predicted_value = xgb.predict(sample_data)\n",
    "\n",
    "print(f\"The predicted value is: {predicted_value[0]}\")"
   ],
   "id": "26ab163c77eaa286",
   "outputs": [
    {
     "ename": "TypeError",
     "evalue": "'NoneType' object is not subscriptable",
     "output_type": "error",
     "traceback": [
      "\u001B[1;31m---------------------------------------------------------------------------\u001B[0m",
      "\u001B[1;31mTypeError\u001B[0m                                 Traceback (most recent call last)",
      "\u001B[1;32m~\\AppData\\Local\\Temp/ipykernel_236/3677637452.py\u001B[0m in \u001B[0;36m<module>\u001B[1;34m\u001B[0m\n\u001B[0;32m      2\u001B[0m \u001B[1;33m\u001B[0m\u001B[0m\n\u001B[0;32m      3\u001B[0m \u001B[1;32mfor\u001B[0m \u001B[0mcol\u001B[0m \u001B[1;32min\u001B[0m \u001B[0mNOMINAL_COLUMNS\u001B[0m\u001B[1;33m:\u001B[0m\u001B[1;33m\u001B[0m\u001B[1;33m\u001B[0m\u001B[0m\n\u001B[1;32m----> 4\u001B[1;33m     \u001B[0mprint\u001B[0m\u001B[1;33m(\u001B[0m\u001B[0mfill_values_nominal\u001B[0m\u001B[1;33m[\u001B[0m\u001B[0mcol\u001B[0m\u001B[1;33m]\u001B[0m\u001B[1;33m)\u001B[0m\u001B[1;33m\u001B[0m\u001B[1;33m\u001B[0m\u001B[0m\n\u001B[0m\u001B[0;32m      5\u001B[0m     sample_data[col].fillna(fill_values_nominal[col],\n\u001B[0;32m      6\u001B[0m                                     inplace=True)\n",
      "\u001B[1;31mTypeError\u001B[0m: 'NoneType' object is not subscriptable"
     ]
    }
   ],
   "execution_count": 62
  }
 ],
 "metadata": {
  "kernelspec": {
   "display_name": "Python 3",
   "language": "python",
   "name": "python3"
  },
  "language_info": {
   "codemirror_mode": {
    "name": "ipython",
    "version": 2
   },
   "file_extension": ".py",
   "mimetype": "text/x-python",
   "name": "python",
   "nbconvert_exporter": "python",
   "pygments_lexer": "ipython2",
   "version": "2.7.6"
  }
 },
 "nbformat": 4,
 "nbformat_minor": 5
}
