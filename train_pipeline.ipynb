{
 "cells": [
  {
   "cell_type": "code",
   "id": "initial_id",
   "metadata": {
    "collapsed": true,
    "ExecuteTime": {
     "end_time": "2025-05-18T13:37:32.873675Z",
     "start_time": "2025-05-18T13:37:32.350154Z"
    }
   },
   "source": [
    "import pandas as pd\n",
    "import numpy as np\n",
    "from sklearn.model_selection import train_test_split\n",
    "from xgboost import XGBRegressor\n",
    "from sklearn.metrics import mean_absolute_error, r2_score\n",
    "from xgboost import plot_importance\n",
    "from sklearn.impute import SimpleImputer\n",
    "import matplotlib.pyplot as plt"
   ],
   "outputs": [],
   "execution_count": 105
  },
  {
   "metadata": {
    "ExecuteTime": {
     "end_time": "2025-05-18T13:37:32.966202Z",
     "start_time": "2025-05-18T13:37:32.883729Z"
    }
   },
   "cell_type": "code",
   "source": [
    "df = pd.read_csv('data/car_price_prediction.csv')\n",
    "df.head()\n",
    "df.describe()"
   ],
   "id": "68656a78affc91b9",
   "outputs": [
    {
     "data": {
      "text/plain": [
       "                 ID         Price    Prod. year     Cylinders       Airbags\n",
       "count  1.923700e+04  1.923700e+04  19237.000000  19237.000000  19237.000000\n",
       "mean   4.557654e+07  1.855593e+04   2010.912824      4.582991      6.582627\n",
       "std    9.365914e+05  1.905813e+05      5.668673      1.199933      4.320168\n",
       "min    2.074688e+07  1.000000e+00   1939.000000      1.000000      0.000000\n",
       "25%    4.569837e+07  5.331000e+03   2009.000000      4.000000      4.000000\n",
       "50%    4.577231e+07  1.317200e+04   2012.000000      4.000000      6.000000\n",
       "75%    4.580204e+07  2.207500e+04   2015.000000      4.000000     12.000000\n",
       "max    4.581665e+07  2.630750e+07   2020.000000     16.000000     16.000000"
      ],
      "text/html": [
       "<div>\n",
       "<style scoped>\n",
       "    .dataframe tbody tr th:only-of-type {\n",
       "        vertical-align: middle;\n",
       "    }\n",
       "\n",
       "    .dataframe tbody tr th {\n",
       "        vertical-align: top;\n",
       "    }\n",
       "\n",
       "    .dataframe thead th {\n",
       "        text-align: right;\n",
       "    }\n",
       "</style>\n",
       "<table border=\"1\" class=\"dataframe\">\n",
       "  <thead>\n",
       "    <tr style=\"text-align: right;\">\n",
       "      <th></th>\n",
       "      <th>ID</th>\n",
       "      <th>Price</th>\n",
       "      <th>Prod. year</th>\n",
       "      <th>Cylinders</th>\n",
       "      <th>Airbags</th>\n",
       "    </tr>\n",
       "  </thead>\n",
       "  <tbody>\n",
       "    <tr>\n",
       "      <th>count</th>\n",
       "      <td>1.923700e+04</td>\n",
       "      <td>1.923700e+04</td>\n",
       "      <td>19237.000000</td>\n",
       "      <td>19237.000000</td>\n",
       "      <td>19237.000000</td>\n",
       "    </tr>\n",
       "    <tr>\n",
       "      <th>mean</th>\n",
       "      <td>4.557654e+07</td>\n",
       "      <td>1.855593e+04</td>\n",
       "      <td>2010.912824</td>\n",
       "      <td>4.582991</td>\n",
       "      <td>6.582627</td>\n",
       "    </tr>\n",
       "    <tr>\n",
       "      <th>std</th>\n",
       "      <td>9.365914e+05</td>\n",
       "      <td>1.905813e+05</td>\n",
       "      <td>5.668673</td>\n",
       "      <td>1.199933</td>\n",
       "      <td>4.320168</td>\n",
       "    </tr>\n",
       "    <tr>\n",
       "      <th>min</th>\n",
       "      <td>2.074688e+07</td>\n",
       "      <td>1.000000e+00</td>\n",
       "      <td>1939.000000</td>\n",
       "      <td>1.000000</td>\n",
       "      <td>0.000000</td>\n",
       "    </tr>\n",
       "    <tr>\n",
       "      <th>25%</th>\n",
       "      <td>4.569837e+07</td>\n",
       "      <td>5.331000e+03</td>\n",
       "      <td>2009.000000</td>\n",
       "      <td>4.000000</td>\n",
       "      <td>4.000000</td>\n",
       "    </tr>\n",
       "    <tr>\n",
       "      <th>50%</th>\n",
       "      <td>4.577231e+07</td>\n",
       "      <td>1.317200e+04</td>\n",
       "      <td>2012.000000</td>\n",
       "      <td>4.000000</td>\n",
       "      <td>6.000000</td>\n",
       "    </tr>\n",
       "    <tr>\n",
       "      <th>75%</th>\n",
       "      <td>4.580204e+07</td>\n",
       "      <td>2.207500e+04</td>\n",
       "      <td>2015.000000</td>\n",
       "      <td>4.000000</td>\n",
       "      <td>12.000000</td>\n",
       "    </tr>\n",
       "    <tr>\n",
       "      <th>max</th>\n",
       "      <td>4.581665e+07</td>\n",
       "      <td>2.630750e+07</td>\n",
       "      <td>2020.000000</td>\n",
       "      <td>16.000000</td>\n",
       "      <td>16.000000</td>\n",
       "    </tr>\n",
       "  </tbody>\n",
       "</table>\n",
       "</div>"
      ]
     },
     "execution_count": 106,
     "metadata": {},
     "output_type": "execute_result"
    }
   ],
   "execution_count": 106
  },
  {
   "metadata": {
    "ExecuteTime": {
     "end_time": "2025-05-18T13:37:33.235150Z",
     "start_time": "2025-05-18T13:37:33.109454Z"
    }
   },
   "cell_type": "code",
   "source": [
    "df['Levy'] = df['Levy'].replace('-', np.nan)\n",
    "df['Levy'] = df['Levy'].str.replace(',', '').astype(float)\n",
    "df['Engine volume'] = df['Engine volume'].str.extract(r'([0-9.]+)').astype(float)\n",
    "df['Mileage'] = df['Mileage'].str.replace(' km', '').str.replace(',', '').astype(int)\n",
    "df['Leather interior'] = df['Leather interior'].map({'Yes': 1, 'No': 0})\n",
    "df['Doors'] = df['Doors'].str.extract(r'(\\d+)').astype(float)"
   ],
   "id": "1cde412ab9f6746f",
   "outputs": [],
   "execution_count": 107
  },
  {
   "metadata": {},
   "cell_type": "markdown",
   "source": "Delete unnecessary columns",
   "id": "c678bb013087579f"
  },
  {
   "metadata": {
    "ExecuteTime": {
     "end_time": "2025-05-18T13:37:33.315219Z",
     "start_time": "2025-05-18T13:37:33.301224Z"
    }
   },
   "cell_type": "code",
   "source": "df = df.drop(columns=['ID', 'Model','Wheel','Color','Gear box type','Drive wheels'])",
   "id": "41ca1d188375937b",
   "outputs": [],
   "execution_count": 108
  },
  {
   "metadata": {},
   "cell_type": "markdown",
   "source": "Cél változó megadása",
   "id": "bb802f7249a047b4"
  },
  {
   "metadata": {
    "ExecuteTime": {
     "end_time": "2025-05-18T13:37:33.347121Z",
     "start_time": "2025-05-18T13:37:33.339121Z"
    }
   },
   "cell_type": "code",
   "source": [
    "y = df['Price']\n",
    "X = df.drop(columns=['Price'])\n"
   ],
   "id": "fbc5b6108931f128",
   "outputs": [],
   "execution_count": 109
  },
  {
   "metadata": {},
   "cell_type": "markdown",
   "source": "Manufacturer oszlop Hot n kódolása",
   "id": "dfe4e95ea5e9655e"
  },
  {
   "metadata": {
    "ExecuteTime": {
     "end_time": "2025-05-18T13:37:33.472210Z",
     "start_time": "2025-05-18T13:37:33.425599Z"
    }
   },
   "cell_type": "code",
   "source": [
    "X = pd.get_dummies(X, columns=['Manufacturer','Category','Fuel type'], drop_first=True)\n",
    "\n",
    "X.head()"
   ],
   "id": "66db1158aaca0de0",
   "outputs": [
    {
     "data": {
      "text/plain": [
       "     Levy  Prod. year  Leather interior  Engine volume  Mileage  Cylinders  \\\n",
       "0  1399.0        2010                 1            3.5   186005        6.0   \n",
       "1  1018.0        2011                 0            3.0   192000        6.0   \n",
       "2     NaN        2006                 0            1.3   200000        4.0   \n",
       "3   862.0        2011                 1            2.5   168966        4.0   \n",
       "4   446.0        2014                 1            1.3    91901        4.0   \n",
       "\n",
       "   Doors  Airbags  Manufacturer_ALFA ROMEO  Manufacturer_ASTON MARTIN  ...  \\\n",
       "0    4.0       12                        0                          0  ...   \n",
       "1    4.0        8                        0                          0  ...   \n",
       "2    4.0        2                        0                          0  ...   \n",
       "3    4.0        0                        0                          0  ...   \n",
       "4    4.0        4                        0                          0  ...   \n",
       "\n",
       "   Category_Minivan  Category_Pickup  Category_Sedan  Category_Universal  \\\n",
       "0                 0                0               0                   0   \n",
       "1                 0                0               0                   0   \n",
       "2                 0                0               0                   0   \n",
       "3                 0                0               0                   0   \n",
       "4                 0                0               0                   0   \n",
       "\n",
       "   Fuel type_Diesel  Fuel type_Hybrid  Fuel type_Hydrogen  Fuel type_LPG  \\\n",
       "0                 0                 1                   0              0   \n",
       "1                 0                 0                   0              0   \n",
       "2                 0                 0                   0              0   \n",
       "3                 0                 1                   0              0   \n",
       "4                 0                 0                   0              0   \n",
       "\n",
       "   Fuel type_Petrol  Fuel type_Plug-in Hybrid  \n",
       "0                 0                         0  \n",
       "1                 1                         0  \n",
       "2                 1                         0  \n",
       "3                 0                         0  \n",
       "4                 1                         0  \n",
       "\n",
       "[5 rows x 88 columns]"
      ],
      "text/html": [
       "<div>\n",
       "<style scoped>\n",
       "    .dataframe tbody tr th:only-of-type {\n",
       "        vertical-align: middle;\n",
       "    }\n",
       "\n",
       "    .dataframe tbody tr th {\n",
       "        vertical-align: top;\n",
       "    }\n",
       "\n",
       "    .dataframe thead th {\n",
       "        text-align: right;\n",
       "    }\n",
       "</style>\n",
       "<table border=\"1\" class=\"dataframe\">\n",
       "  <thead>\n",
       "    <tr style=\"text-align: right;\">\n",
       "      <th></th>\n",
       "      <th>Levy</th>\n",
       "      <th>Prod. year</th>\n",
       "      <th>Leather interior</th>\n",
       "      <th>Engine volume</th>\n",
       "      <th>Mileage</th>\n",
       "      <th>Cylinders</th>\n",
       "      <th>Doors</th>\n",
       "      <th>Airbags</th>\n",
       "      <th>Manufacturer_ALFA ROMEO</th>\n",
       "      <th>Manufacturer_ASTON MARTIN</th>\n",
       "      <th>...</th>\n",
       "      <th>Category_Minivan</th>\n",
       "      <th>Category_Pickup</th>\n",
       "      <th>Category_Sedan</th>\n",
       "      <th>Category_Universal</th>\n",
       "      <th>Fuel type_Diesel</th>\n",
       "      <th>Fuel type_Hybrid</th>\n",
       "      <th>Fuel type_Hydrogen</th>\n",
       "      <th>Fuel type_LPG</th>\n",
       "      <th>Fuel type_Petrol</th>\n",
       "      <th>Fuel type_Plug-in Hybrid</th>\n",
       "    </tr>\n",
       "  </thead>\n",
       "  <tbody>\n",
       "    <tr>\n",
       "      <th>0</th>\n",
       "      <td>1399.0</td>\n",
       "      <td>2010</td>\n",
       "      <td>1</td>\n",
       "      <td>3.5</td>\n",
       "      <td>186005</td>\n",
       "      <td>6.0</td>\n",
       "      <td>4.0</td>\n",
       "      <td>12</td>\n",
       "      <td>0</td>\n",
       "      <td>0</td>\n",
       "      <td>...</td>\n",
       "      <td>0</td>\n",
       "      <td>0</td>\n",
       "      <td>0</td>\n",
       "      <td>0</td>\n",
       "      <td>0</td>\n",
       "      <td>1</td>\n",
       "      <td>0</td>\n",
       "      <td>0</td>\n",
       "      <td>0</td>\n",
       "      <td>0</td>\n",
       "    </tr>\n",
       "    <tr>\n",
       "      <th>1</th>\n",
       "      <td>1018.0</td>\n",
       "      <td>2011</td>\n",
       "      <td>0</td>\n",
       "      <td>3.0</td>\n",
       "      <td>192000</td>\n",
       "      <td>6.0</td>\n",
       "      <td>4.0</td>\n",
       "      <td>8</td>\n",
       "      <td>0</td>\n",
       "      <td>0</td>\n",
       "      <td>...</td>\n",
       "      <td>0</td>\n",
       "      <td>0</td>\n",
       "      <td>0</td>\n",
       "      <td>0</td>\n",
       "      <td>0</td>\n",
       "      <td>0</td>\n",
       "      <td>0</td>\n",
       "      <td>0</td>\n",
       "      <td>1</td>\n",
       "      <td>0</td>\n",
       "    </tr>\n",
       "    <tr>\n",
       "      <th>2</th>\n",
       "      <td>NaN</td>\n",
       "      <td>2006</td>\n",
       "      <td>0</td>\n",
       "      <td>1.3</td>\n",
       "      <td>200000</td>\n",
       "      <td>4.0</td>\n",
       "      <td>4.0</td>\n",
       "      <td>2</td>\n",
       "      <td>0</td>\n",
       "      <td>0</td>\n",
       "      <td>...</td>\n",
       "      <td>0</td>\n",
       "      <td>0</td>\n",
       "      <td>0</td>\n",
       "      <td>0</td>\n",
       "      <td>0</td>\n",
       "      <td>0</td>\n",
       "      <td>0</td>\n",
       "      <td>0</td>\n",
       "      <td>1</td>\n",
       "      <td>0</td>\n",
       "    </tr>\n",
       "    <tr>\n",
       "      <th>3</th>\n",
       "      <td>862.0</td>\n",
       "      <td>2011</td>\n",
       "      <td>1</td>\n",
       "      <td>2.5</td>\n",
       "      <td>168966</td>\n",
       "      <td>4.0</td>\n",
       "      <td>4.0</td>\n",
       "      <td>0</td>\n",
       "      <td>0</td>\n",
       "      <td>0</td>\n",
       "      <td>...</td>\n",
       "      <td>0</td>\n",
       "      <td>0</td>\n",
       "      <td>0</td>\n",
       "      <td>0</td>\n",
       "      <td>0</td>\n",
       "      <td>1</td>\n",
       "      <td>0</td>\n",
       "      <td>0</td>\n",
       "      <td>0</td>\n",
       "      <td>0</td>\n",
       "    </tr>\n",
       "    <tr>\n",
       "      <th>4</th>\n",
       "      <td>446.0</td>\n",
       "      <td>2014</td>\n",
       "      <td>1</td>\n",
       "      <td>1.3</td>\n",
       "      <td>91901</td>\n",
       "      <td>4.0</td>\n",
       "      <td>4.0</td>\n",
       "      <td>4</td>\n",
       "      <td>0</td>\n",
       "      <td>0</td>\n",
       "      <td>...</td>\n",
       "      <td>0</td>\n",
       "      <td>0</td>\n",
       "      <td>0</td>\n",
       "      <td>0</td>\n",
       "      <td>0</td>\n",
       "      <td>0</td>\n",
       "      <td>0</td>\n",
       "      <td>0</td>\n",
       "      <td>1</td>\n",
       "      <td>0</td>\n",
       "    </tr>\n",
       "  </tbody>\n",
       "</table>\n",
       "<p>5 rows × 88 columns</p>\n",
       "</div>"
      ]
     },
     "execution_count": 110,
     "metadata": {},
     "output_type": "execute_result"
    }
   ],
   "execution_count": 110
  },
  {
   "metadata": {},
   "cell_type": "markdown",
   "source": "Hiányzó értékek pótlása",
   "id": "b67f259590bcce4c"
  },
  {
   "metadata": {
    "ExecuteTime": {
     "end_time": "2025-05-18T13:37:33.769571Z",
     "start_time": "2025-05-18T13:37:33.552383Z"
    }
   },
   "cell_type": "code",
   "source": [
    "imputer = SimpleImputer(strategy='median')\n",
    "X_imputed = imputer.fit_transform(X)\n"
   ],
   "id": "88883c19399fe604",
   "outputs": [],
   "execution_count": 111
  },
  {
   "metadata": {},
   "cell_type": "markdown",
   "source": "Train-test split",
   "id": "a57883fb8040fd00"
  },
  {
   "metadata": {
    "ExecuteTime": {
     "end_time": "2025-05-18T13:37:33.863298Z",
     "start_time": "2025-05-18T13:37:33.821152Z"
    }
   },
   "cell_type": "code",
   "source": "X_train, X_test, y_train, y_test = train_test_split(X_imputed, y, test_size=0.2, random_state=42)",
   "id": "a0317c582dfdeaa3",
   "outputs": [],
   "execution_count": 112
  },
  {
   "metadata": {},
   "cell_type": "markdown",
   "source": "Train",
   "id": "ed29e65641bac59"
  },
  {
   "metadata": {
    "ExecuteTime": {
     "end_time": "2025-05-18T13:37:35.344848Z",
     "start_time": "2025-05-18T13:37:34.018957Z"
    }
   },
   "cell_type": "code",
   "source": [
    "\n",
    "\n",
    "# Linear Regression\n",
    "xgb = XGBRegressor()\n",
    "xgb.fit(X_train, y_train)\n",
    "plot_importance(xgb)\n",
    "plt.show()"
   ],
   "id": "8a3eeb5c430199a6",
   "outputs": [
    {
     "data": {
      "text/plain": [
       "<Figure size 432x288 with 1 Axes>"
      ],
      "image/png": "[encoded data removed]"
     },
     "metadata": {
      "needs_background": "light"
     },
     "output_type": "display_data"
    }
   ],
   "execution_count": 113
  },
  {
   "metadata": {},
   "cell_type": "markdown",
   "source": "Kiértékelés",
   "id": "b39da790ac439c4d"
  },
  {
   "metadata": {
    "ExecuteTime": {
     "end_time": "2025-05-18T13:37:35.468251Z",
     "start_time": "2025-05-18T13:37:35.406090Z"
    }
   },
   "cell_type": "code",
   "source": [
    "\n",
    "print(\"\\nXGB Regression:\")\n",
    "y_train_pred = xgb.predict(X_train)\n",
    "\n",
    "y_test_pred = xgb.predict(X_test)\n",
    "\n",
    "print(\"MAE:\", mean_absolute_error(y_test, y_test_pred))\n",
    "print(\"R²:\", r2_score(y_test, y_test_pred))"
   ],
   "id": "4c61c82bd1cfc89d",
   "outputs": [
    {
     "name": "stdout",
     "output_type": "stream",
     "text": [
      "\n",
      "XGB Regression:\n",
      "MAE: 6027.565003830281\n",
      "R²: 0.5183599094183029\n"
     ]
    }
   ],
   "execution_count": 114
  }
 ],
 "metadata": {
  "kernelspec": {
   "display_name": "Python 3",
   "language": "python",
   "name": "python3"
  },
  "language_info": {
   "codemirror_mode": {
    "name": "ipython",
    "version": 2
   },
   "file_extension": ".py",
   "mimetype": "text/x-python",
   "name": "python",
   "nbconvert_exporter": "python",
   "pygments_lexer": "ipython2",
   "version": "2.7.6"
  }
 },
 "nbformat": 4,
 "nbformat_minor": 5
}
