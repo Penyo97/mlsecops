{
 "cells": [
  {
   "cell_type": "code",
   "id": "initial_id",
   "metadata": {
    "collapsed": true,
    "ExecuteTime": {
     "end_time": "2025-05-19T18:54:55.562995Z",
     "start_time": "2025-05-19T18:54:55.549Z"
    }
   },
   "source": [
    "import pandas as pd\n",
    "import numpy as np\n",
    "from sklearn.model_selection import train_test_split\n",
    "from xgboost import XGBRegressor\n",
    "from sklearn.metrics import mean_absolute_error, r2_score\n",
    "from scipy import stats\n",
    "from sklearn.preprocessing import OneHotEncoder, MinMaxScaler\n",
    "from constants import NOMINAL_COLUMNS,CONTINOUS_COLUMNS,DROP_COLUMNS,DISCRETE_COLUMNS,TARGET"
   ],
   "outputs": [],
   "execution_count": 21
  },
  {
   "metadata": {
    "ExecuteTime": {
     "end_time": "2025-05-19T18:54:58.823218Z",
     "start_time": "2025-05-19T18:54:55.574997Z"
    }
   },
   "cell_type": "code",
   "source": [
    "\n",
    "df = pd.read_csv('data/train_pipeline/car_price_prediction.csv')\n",
    "df.drop(columns=DROP_COLUMNS, inplace=True)\n",
    "\n",
    "\n",
    "df[\"Levy\"] = df[\"Levy\"].replace(\"-\", np.nan)\n",
    "df[\"Levy\"] = pd.to_numeric(df[\"Levy\"], errors=\"coerce\")\n",
    "\n",
    "df[\"Engine volume\"] = df[\"Engine volume\"].str.replace(\"Turbo\", \"\", regex=False)\n",
    "df[\"Engine volume\"] = pd.to_numeric(df[\"Engine volume\"], errors=\"coerce\")\n",
    "\n",
    "df[\"Mileage\"] = df[\"Mileage\"].astype(str).str.replace(\" km\", \"\").str.replace(\",\", \"\")\n",
    "df[\"Mileage\"] = pd.to_numeric(df[\"Mileage\"], errors=\"coerce\")\n",
    "\n",
    "\n",
    "df['Leather interior'] = df['Leather interior'].map({'Yes': 1, 'No': 0})\n",
    "df['Doors'] = df['Doors'].str.extract(r'(\\d+)').astype(float)\n",
    "\n",
    "fill_values_nominal = {col: df[col].mode()[0] for col in NOMINAL_COLUMNS}\n",
    "fill_values_discrete = {col: df[col].median() for col in DISCRETE_COLUMNS}\n",
    "fill_values_continuous = {col: df[col].mean() for col in CONTINOUS_COLUMNS}\n",
    "\n",
    "for col in NOMINAL_COLUMNS:\n",
    "    df[col] = df[col].fillna(fill_values_nominal[col])\n",
    "\n",
    "for col in DISCRETE_COLUMNS:\n",
    "    df[col] = df[col].fillna(fill_values_discrete[col])\n",
    "\n",
    "for col in CONTINOUS_COLUMNS:\n",
    "    df[col] = df[col].fillna(fill_values_continuous[col])\n",
    "\n",
    "for col in CONTINOUS_COLUMNS:\n",
    "    df[col] = df[col].astype(float)\n",
    "    z_scores = stats.zscore(df[col])\n",
    "    outliers = np.abs(z_scores) > 3\n",
    "    df.loc[outliers, col] = df[col].mean()\n",
    "\n",
    "encoder_dict = {}\n",
    "for col in NOMINAL_COLUMNS:\n",
    "    encoder = OneHotEncoder(sparse_output=False, handle_unknown=\"ignore\")\n",
    "    transformed = encoder.fit_transform(df[[col]])\n",
    "    df = pd.concat([df, pd.DataFrame(transformed, columns=encoder.get_feature_names_out([col]))], axis=1)\n",
    "    encoder_dict[col] = encoder\n",
    "\n",
    "df.drop(columns=NOMINAL_COLUMNS, inplace=True)\n",
    "\n",
    "scaler_dict = {}\n",
    "for col in df.columns:\n",
    "    if col == TARGET:\n",
    "        continue\n",
    "    scaler = MinMaxScaler()\n",
    "    df[col] = scaler.fit_transform(df[[col]])\n",
    "    scaler_dict[col] = scaler"
   ],
   "id": "6594ae529c0adc8f",
   "outputs": [],
   "execution_count": 22
  },
  {
   "metadata": {
    "ExecuteTime": {
     "end_time": "2025-05-19T18:55:01.471885Z",
     "start_time": "2025-05-19T18:54:58.870709Z"
    }
   },
   "cell_type": "code",
   "source": [
    "X = df.drop(columns=TARGET)\n",
    "y = df[TARGET]\n",
    "\n",
    "X_train, X_test, y_train, y_test = train_test_split(X, y, test_size=0.2, random_state=42)\n",
    "\n",
    "xgb = XGBRegressor()\n",
    "xgb.fit(X_train, y_train)\n",
    "\n",
    "print(\"\\nXGB Regression:\")\n",
    "\n",
    "y_test_pred = xgb.predict(X_test)\n",
    "\n",
    "print(\"MAE:\", mean_absolute_error(y_test, y_test_pred))\n",
    "print(\"R²:\", r2_score(y_test, y_test_pred))"
   ],
   "id": "7368aec05caa2b1b",
   "outputs": [
    {
     "name": "stdout",
     "output_type": "stream",
     "text": [
      "\n",
      "XGB Regression:\n",
      "MAE: 5589.1318359375\n",
      "R²: 0.5252405405044556\n"
     ]
    }
   ],
   "execution_count": 23
  }
 ],
 "metadata": {
  "kernelspec": {
   "display_name": "Python 3",
   "language": "python",
   "name": "python3"
  },
  "language_info": {
   "codemirror_mode": {
    "name": "ipython",
    "version": 2
   },
   "file_extension": ".py",
   "mimetype": "text/x-python",
   "name": "python",
   "nbconvert_exporter": "python",
   "pygments_lexer": "ipython2",
   "version": "2.7.6"
  }
 },
 "nbformat": 4,
 "nbformat_minor": 5
}
